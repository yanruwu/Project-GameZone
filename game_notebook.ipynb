{
 "cells": [
  {
   "cell_type": "markdown",
   "metadata": {},
   "source": [
    "<h1 style=\"text-align:center;\"><b>Game Zone</b></h1>"
   ]
  },
  {
   "cell_type": "code",
   "execution_count": 1,
   "metadata": {},
   "outputs": [],
   "source": [
    "import re\n",
    "import random as rand\n",
    "import time\n",
    "from os import system"
   ]
  },
  {
   "cell_type": "markdown",
   "metadata": {},
   "source": [
    "<h3 style=\"text-align:center;\"><b> Primer Juego: </b></h3>"
   ]
  },
  {
   "cell_type": "code",
   "execution_count": 9,
   "metadata": {},
   "outputs": [],
   "source": [
    "with open(\"questions.txt\", encoding = \"UTF-8\") as archivo:\n",
    "    trivia_text = archivo.read()"
   ]
  },
  {
   "cell_type": "code",
   "execution_count": 41,
   "metadata": {},
   "outputs": [],
   "source": [
    "class Trivia:\n",
    "    def __init__(self, complete_string):\n",
    "        time.sleep(0.5)\n",
    "        print(\"Bienvenido al preguntados!\")\n",
    "        time.sleep(1)\n",
    "        print(\"Vamos a comenzar\")\n",
    "        time.sleep(1)\n",
    "        while True:\n",
    "            try:\n",
    "                self.rondas = int(input(\"Cuántas rondas quieres jugar?\"))\n",
    "                break\n",
    "            except:\n",
    "                continue\n",
    "        pattern_q = r\"(.*?)%(.*?)%(.*?)%(.*?)%(.*?)%\"\n",
    "        self.q_set = re.findall(pattern = pattern_q, string = complete_string)\n",
    "        self.points = 0\n",
    "\n",
    "    def generate(self):\n",
    "        index = rand.randint(0,len(self.q_set)-1)\n",
    "        question = list(self.q_set[index])[0]\n",
    "        answer = list(self.q_set[index])[1]\n",
    "        inc1 = list(self.q_set[index])[2]\n",
    "        inc2 = list(self.q_set[index])[3]\n",
    "        inc3 = list(self.q_set[index])[4]\n",
    "        return [question, answer, inc1, inc2, inc3]\n",
    "    \n",
    "    def jugar_trivia(self):\n",
    "        play_again = \"y\"\n",
    "        while play_again.lower() == \"y\":\n",
    "            if self.rondas == 0:\n",
    "                break\n",
    "            i = 1\n",
    "            while i<=self.rondas:\n",
    "                q_set_round = self.generate()\n",
    "                q_set_options = q_set_round[1::]\n",
    "                q_set_options_rand = rand.sample(q_set_options, k = 4)\n",
    "                if i == self.rondas:\n",
    "                    print(\"Ronda final\")\n",
    "                else:\n",
    "                    print(f\"Ronda {i}\")\n",
    "                print(q_set_round[0])\n",
    "                print(f'1: {q_set_options_rand[0]}, 2: {q_set_options_rand[1]}, 3: {q_set_options_rand[2]}, 4: {q_set_options_rand[3]}')\n",
    "\n",
    "                user_choice = int(input(\"Escoja una opción (1-4)\"))\n",
    "\n",
    "                if q_set_options_rand[user_choice-1] == q_set_options[0]:\n",
    "                    print(\"CORRECTO!!\")\n",
    "                    self.points += 1\n",
    "                   \n",
    "                else:\n",
    "                    print(\"INCORRECTO!\")\n",
    "                    time.sleep(1)\n",
    "                    print(f\"La respuesta correcta era: {q_set_options[0]}\")\n",
    "                self.q_set.pop(self.q_set.index(tuple(q_set_round)))\n",
    "                time.sleep(1)\n",
    "                if i == self.rondas:\n",
    "                    time.sleep(1)\n",
    "                    break\n",
    "                print(f\"Puntuación actual: {self.points}\")\n",
    "                time.sleep(1)\n",
    "                i+=1\n",
    "            time.sleep(1)\n",
    "            print(f'Puntuación final: {self.points}')\n",
    "            time.sleep(1)\n",
    "            if self.points == self.rondas:\n",
    "                print(\"Has ganado!! 🥳🎉\")\n",
    "            else:\n",
    "                print(\"Perdedor...\")\n",
    "            time.sleep(2)\n",
    "\n",
    "            print(\"Quieres jugar de nuevo?\")\n",
    "            play_again = input(\"Quieres jugar de nuevo? (y/n)\")\n",
    "            _ = system(\"cls\")"
   ]
  },
  {
   "cell_type": "code",
   "execution_count": 43,
   "metadata": {},
   "outputs": [
    {
     "name": "stdout",
     "output_type": "stream",
     "text": [
      "Bienvenido al preguntados!\n",
      "Vamos a comenzar\n"
     ]
    }
   ],
   "source": [
    "Trivia(trivia_text).jugar_trivia()"
   ]
  },
  {
   "cell_type": "markdown",
   "metadata": {},
   "source": [
    "<h3 style=\"text-align:center;\"><b> Segundo Juego: </b></h3>"
   ]
  },
  {
   "cell_type": "code",
   "execution_count": null,
   "metadata": {},
   "outputs": [],
   "source": []
  },
  {
   "cell_type": "markdown",
   "metadata": {},
   "source": [
    "<h3 style=\"text-align:center;\"><b> Tercer Juego: </b></h3>"
   ]
  },
  {
   "cell_type": "code",
   "execution_count": null,
   "metadata": {},
   "outputs": [],
   "source": []
  },
  {
   "cell_type": "markdown",
   "metadata": {},
   "source": [
    "<h3 style=\"text-align:center;\"><b> Cuarto Juego: </b></h3>"
   ]
  },
  {
   "cell_type": "code",
   "execution_count": null,
   "metadata": {},
   "outputs": [],
   "source": []
  },
  {
   "cell_type": "markdown",
   "metadata": {},
   "source": [
    "<h3 style=\"text-align:center;\"><b> Quinto Juego: </b></h3>"
   ]
  },
  {
   "cell_type": "code",
   "execution_count": null,
   "metadata": {},
   "outputs": [],
   "source": []
  }
 ],
 "metadata": {
  "kernelspec": {
   "display_name": "Python 3",
   "language": "python",
   "name": "python3"
  },
  "language_info": {
   "codemirror_mode": {
    "name": "ipython",
    "version": 3
   },
   "file_extension": ".py",
   "mimetype": "text/x-python",
   "name": "python",
   "nbconvert_exporter": "python",
   "pygments_lexer": "ipython3",
   "version": "3.11.9"
  }
 },
 "nbformat": 4,
 "nbformat_minor": 2
}
